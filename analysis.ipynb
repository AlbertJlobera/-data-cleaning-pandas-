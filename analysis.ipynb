{
 "cells": [
  {
   "cell_type": "code",
   "execution_count": 1,
   "metadata": {},
   "outputs": [],
   "source": [
    "import pandas as pd\n",
    "import numpy as pn\n",
    "import matplotlib.pyplot as plt"
   ]
  },
  {
   "cell_type": "code",
   "execution_count": 2,
   "metadata": {},
   "outputs": [],
   "source": [
    "dc_clean = pd.read_csv(\"../../../Ironhack/clean.csv\" , encoding='latin-1')"
   ]
  },
  {
   "cell_type": "markdown",
   "metadata": {},
   "source": [
    "## Read all available data:"
   ]
  },
  {
   "cell_type": "code",
   "execution_count": 3,
   "metadata": {},
   "outputs": [
    {
     "name": "stdout",
     "output_type": "stream",
     "text": [
      "M     461\n",
      "F      93\n",
      "M       1\n",
      "Name: Sex, dtype: int64\n"
     ]
    },
    {
     "data": {
      "text/plain": [
       "'There are a total of 83.72% of male and 16.28% of female'"
      ]
     },
     "execution_count": 3,
     "metadata": {},
     "output_type": "execute_result"
    }
   ],
   "source": [
    "# Percentatge of Male and Female in column 'Sex'\n",
    "\n",
    "def sex(M,F):\n",
    "    Total=M+F\n",
    "    m= round(M*100/Total,2)\n",
    "    \n",
    "    f= round(F*100/Total,2)\n",
    "    \n",
    "    return f'There are a total of {m}% of male and {f}% of female'\n",
    "\n",
    "print(dc_clean.Sex.value_counts())\n",
    "\n",
    "sex(504,98)"
   ]
  },
  {
   "cell_type": "code",
   "execution_count": 4,
   "metadata": {},
   "outputs": [
    {
     "data": {
      "text/plain": [
       "'Total attacks: winter 4.24%, spring 27.39%, summer 35.69% and autumn 32.69%'"
      ]
     },
     "execution_count": 4,
     "metadata": {},
     "output_type": "execute_result"
    }
   ],
   "source": [
    "# Percentatge of attaks base on seasons:\n",
    "\n",
    "dc_clean[\"Month\"].value_counts()\n",
    "\n",
    "def Seasons(Jan,Feb,Mar,Apr,May,Jun,Jul,Aug,Sep,Oct,Nov,Dec):\n",
    "    winter=\"Dec\",\"Jan\",\"Feb\"\n",
    "    spring=\"Mar\",\"Apr\",\"May\"\n",
    "    summer = \"Jun\",\"Jul\",\"Aug\"\n",
    "    autumn = \"Sep\",\"Oct\",\"Nov\"\n",
    "    \n",
    "    total= Jan+Feb+Mar+Apr+May+Jun+Jul+Aug+Sep+Oct+Nov+Dec\n",
    "    \n",
    "    winter= round((Dec+Jan+Feb)*100/total,2)\n",
    "    \n",
    "    spring=round((Mar+Apr+May)*100/total,2)\n",
    "    \n",
    "    summer=round((Jun+Jul+Aug)*100/total,2)\n",
    "    \n",
    "    autumn=round((Sep+Oct+Nov)*100/total,2)\n",
    "    \n",
    "    \n",
    "   \n",
    "    return f'Total attacks: winter {winter}%, spring {spring}%, summer {summer}% and autumn {autumn}%'\n",
    "\n",
    "Seasons(5,11,38,63,54,58,64,80,93,60,32,8)"
   ]
  },
  {
   "cell_type": "code",
   "execution_count": 5,
   "metadata": {},
   "outputs": [
    {
     "data": {
      "text/plain": [
       "Adult       362\n",
       "Teenager    193\n",
       "Name: Age, dtype: int64"
      ]
     },
     "execution_count": 5,
     "metadata": {},
     "output_type": "execute_result"
    }
   ],
   "source": [
    "dc_clean[\"Age\"].value_counts()"
   ]
  },
  {
   "cell_type": "code",
   "execution_count": 6,
   "metadata": {},
   "outputs": [
    {
     "data": {
      "text/plain": [
       "'Adult victims: 65.23% and underage victims: 34.77%.'"
      ]
     },
     "execution_count": 6,
     "metadata": {},
     "output_type": "execute_result"
    }
   ],
   "source": [
    "# Percentatge of attaks base on age:\n",
    "\n",
    "def Age(Adult,teenager):\n",
    "\n",
    "    total= Adult + teenager\n",
    "    ad= round((Adult *100)/total,2)\n",
    "    teen=round((teenager * 100)/total,2)\n",
    "    \n",
    "    return f'Adult victims: {ad}% and underage victims: {teen}%.'\n",
    "\n",
    "Age(362,193)"
   ]
  },
  {
   "cell_type": "code",
   "execution_count": 7,
   "metadata": {},
   "outputs": [
    {
     "data": {
      "text/plain": [
       "N          544\n",
       "Y           10\n",
       "UNKNOWN      1\n",
       "Name: Dead, dtype: int64"
      ]
     },
     "execution_count": 7,
     "metadata": {},
     "output_type": "execute_result"
    }
   ],
   "source": [
    "dc_clean[\"Dead\"].value_counts()"
   ]
  },
  {
   "cell_type": "code",
   "execution_count": 8,
   "metadata": {},
   "outputs": [
    {
     "data": {
      "text/plain": [
       "'Mortal victims: 1.81% and survivors: 98.19%.'"
      ]
     },
     "execution_count": 8,
     "metadata": {},
     "output_type": "execute_result"
    }
   ],
   "source": [
    "# Percentatge of attaks base on Deads:\n",
    "\n",
    "def Dead(Y,N):\n",
    "\n",
    "    total= Y + N\n",
    "    Y= round((Y *100)/total,2)\n",
    "    N=round((N * 100)/total,2)\n",
    "    \n",
    "    return f'Mortal victims: {Y}% and survivors: {N}%.'\n",
    "Dead(10,544)"
   ]
  },
  {
   "cell_type": "markdown",
   "metadata": {},
   "source": [
    "## Two kinds of graphics to suport the hypotesis:"
   ]
  },
  {
   "cell_type": "code",
   "execution_count": 9,
   "metadata": {},
   "outputs": [
    {
     "data": {
      "image/png": "[encoded data removed]",
      "text/plain": [
       "<Figure size 432x288 with 1 Axes>"
      ]
     },
     "metadata": {
      "needs_background": "light"
     },
     "output_type": "display_data"
    }
   ],
   "source": [
    "Data = {'Season': [\"winter\",\"spring\",\"summer\",\"autumn\"],\n",
    "        'Shark_Attacks': [4.77,27.63,32.8,34.79]       \n",
    "       }\n",
    "  \n",
    "cd = pd.DataFrame(Data,columns=['Season','Shark_Attacks'])\n",
    "cd.plot(x ='Season', y='Shark_Attacks', kind = 'line')\n",
    "plt.show()"
   ]
  },
  {
   "cell_type": "code",
   "execution_count": 11,
   "metadata": {},
   "outputs": [
    {
     "data": {
      "image/png": "[encoded data removed]",
      "text/plain": [
       "<Figure size 360x360 with 1 Axes>"
      ]
     },
     "metadata": {},
     "output_type": "display_data"
    }
   ],
   "source": [
    "Data = {'Seasons': [4.77,27.63,32.8,34.79]}\n",
    "df = pd.DataFrame(Data,columns=['Seasons'],index = [\"winter\",\"spring\",\"summer\",\"autumn\"])\n",
    "\n",
    "df.plot.pie(y='Seasons',figsize=(5, 5),autopct='%1.1f%%', startangle=90)\n",
    "plt.show()"
   ]
  },
  {
   "cell_type": "code",
   "execution_count": null,
   "metadata": {},
   "outputs": [],
   "source": []
  }
 ],
 "metadata": {
  "kernelspec": {
   "display_name": "Python 3",
   "language": "python",
   "name": "python3"
  },
  "language_info": {
   "codemirror_mode": {
    "name": "ipython",
    "version": 3
   },
   "file_extension": ".py",
   "mimetype": "text/x-python",
   "name": "python",
   "nbconvert_exporter": "python",
   "pygments_lexer": "ipython3",
   "version": "3.8.2"
  }
 },
 "nbformat": 4,
 "nbformat_minor": 4
}
